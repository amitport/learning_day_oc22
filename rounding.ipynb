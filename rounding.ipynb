{
 "cells": [
  {
   "cell_type": "code",
   "execution_count": 43,
   "outputs": [],
   "source": [
    "import torch\n",
    "import matplotlib.pyplot as plt"
   ],
   "metadata": {
    "collapsed": false
   }
  },
  {
   "cell_type": "code",
   "execution_count": 282,
   "outputs": [],
   "source": [
    "N = 2_000 # number of repeats for each value\n",
    "NUM_POINTS = 1_001 # number of values taken in range"
   ],
   "metadata": {
    "collapsed": false
   }
  },
  {
   "cell_type": "code",
   "execution_count": 283,
   "outputs": [],
   "source": [
    "x = torch.linspace(-2, 2, NUM_POINTS)\n",
    "repeated_x = x.repeat((N, 1))"
   ],
   "metadata": {
    "collapsed": false
   }
  },
  {
   "cell_type": "code",
   "execution_count": 284,
   "outputs": [],
   "source": [
    "i = torch.tensor([0, 0.5, 1])\n",
    "repeated_i = i.repeat((N, 1))"
   ],
   "metadata": {
    "collapsed": false
   }
  },
  {
   "cell_type": "code",
   "execution_count": 286,
   "outputs": [],
   "source": [
    "def round(repeated_vec):\n",
    "    return torch.round(repeated_vec)"
   ],
   "metadata": {
    "collapsed": false
   }
  },
  {
   "cell_type": "code",
   "execution_count": 287,
   "outputs": [],
   "source": [
    "def randomized_rounding(repeated_vec):\n",
    "    # encode and decode using randomized rounding\n",
    "    raise NotImplementedError()"
   ],
   "metadata": {
    "collapsed": false
   }
  },
  {
   "cell_type": "code",
   "execution_count": 288,
   "outputs": [],
   "source": [
    "def subtractive_dithering(repeated_vec):\n",
    "    # encode and decode using subtractive dithering\n",
    "    raise NotImplementedError()"
   ],
   "metadata": {
    "collapsed": false
   }
  },
  {
   "cell_type": "code",
   "execution_count": 289,
   "outputs": [],
   "source": [
    "def shared_random_bit(repeated_vec):\n",
    "    # encode and decode using a shared random bit\n",
    "    # here the input is in {0, 0.5, 1}\n",
    "\n",
    "    raise NotImplementedError()"
   ],
   "metadata": {
    "collapsed": false
   }
  },
  {
   "cell_type": "code",
   "execution_count": 297,
   "outputs": [],
   "source": [
    "def rmse(x1, x2):\n",
    "    return torch.sqrt(torch.sum((x1 - x2)**2, dim=0) / N)"
   ],
   "metadata": {
    "collapsed": false
   }
  },
  {
   "cell_type": "code",
   "execution_count": 307,
   "outputs": [],
   "source": [
    "def plot_rmse():\n",
    "    plt.title(f'{N=}')\n",
    "    plt.scatter(x, rmse(randomized_rounding(repeated_x), x), s=5, label='randomized rounding')\n",
    "    plt.scatter(x, rmse(subtractive_dithering(repeated_x), x), s=1, label='Subtractive dithering')\n",
    "    plt.scatter(x, rmse(round(repeated_x), x), s=5, label='Round')\n",
    "    plt.scatter(i, rmse(shared_random_bit(repeated_i), i)  , s=100, marker='X', edgecolor='y', label='Shared random bit')\n",
    "    plt.ylabel('RMSE')\n",
    "    plt.xlabel('x')\n",
    "    plt.legend()"
   ],
   "metadata": {
    "collapsed": false
   }
  },
  {
   "cell_type": "code",
   "execution_count": null,
   "outputs": [],
   "source": [
    "plot_rmse()"
   ],
   "metadata": {
    "collapsed": false,
    "pycharm": {
     "is_executing": true
    }
   }
  },
  {
   "cell_type": "code",
   "execution_count": 300,
   "outputs": [],
   "source": [
    "def bias(x1, x2):\n",
    "    # aka mean signed deviation\n",
    "    return torch.sum((x1 - x2), dim=0) / N"
   ],
   "metadata": {
    "collapsed": false
   }
  },
  {
   "cell_type": "code",
   "execution_count": 305,
   "outputs": [],
   "source": [
    "def plot_bias():\n",
    "    plt.title(f'{N=}')\n",
    "    plt.scatter(x, bias(randomized_rounding(repeated_x), x), s=5, label='randomized rounding')\n",
    "    plt.scatter(x, bias(subtractive_dithering(repeated_x), x), s=1, label='Subtractive dithering')\n",
    "    plt.scatter(x, bias(round(repeated_x), x), s=5, label='Round')\n",
    "    plt.scatter(i, bias(shared_random_bit(repeated_i), i), s=100, marker='X', edgecolor='y', label='Shared random bit')\n",
    "    plt.ylabel('Bias (mean deviation)')\n",
    "    plt.xlabel('x')\n",
    "    plt.legend()"
   ],
   "metadata": {
    "collapsed": false
   }
  },
  {
   "cell_type": "code",
   "execution_count": null,
   "outputs": [],
   "source": [
    "plot_bias()"
   ],
   "metadata": {
    "collapsed": false,
    "pycharm": {
     "is_executing": true
    }
   }
  }
 ],
 "metadata": {
  "kernelspec": {
   "display_name": "Python 3",
   "language": "python",
   "name": "python3"
  },
  "language_info": {
   "codemirror_mode": {
    "name": "ipython",
    "version": 2
   },
   "file_extension": ".py",
   "mimetype": "text/x-python",
   "name": "python",
   "nbconvert_exporter": "python",
   "pygments_lexer": "ipython2",
   "version": "2.7.6"
  }
 },
 "nbformat": 4,
 "nbformat_minor": 0
}
